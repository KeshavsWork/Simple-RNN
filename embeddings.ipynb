{
 "cells": [
  {
   "cell_type": "code",
   "execution_count": 2,
   "id": "b585cf15",
   "metadata": {},
   "outputs": [],
   "source": [
    "from tensorflow.keras.preprocessing.text import one_hot"
   ]
  },
  {
   "cell_type": "code",
   "execution_count": 3,
   "id": "cf0f0c24",
   "metadata": {},
   "outputs": [],
   "source": [
    "### sentences\n",
    "sent=[  'the glass of milk',\n",
    "     'the glass of juice',\n",
    "     'the cup of tea',\n",
    "    'I am a good boy',\n",
    "     'I am a good developer',\n",
    "     'understand the meaning of words',\n",
    "     'your videos are good',]"
   ]
  },
  {
   "cell_type": "code",
   "execution_count": 4,
   "id": "f4907ae0",
   "metadata": {},
   "outputs": [
    {
     "data": {
      "text/plain": [
       "['the glass of milk',\n",
       " 'the glass of juice',\n",
       " 'the cup of tea',\n",
       " 'I am a good boy',\n",
       " 'I am a good developer',\n",
       " 'understand the meaning of words',\n",
       " 'your videos are good']"
      ]
     },
     "execution_count": 4,
     "metadata": {},
     "output_type": "execute_result"
    }
   ],
   "source": [
    "sent"
   ]
  },
  {
   "cell_type": "code",
   "execution_count": 5,
   "id": "b3a7d942",
   "metadata": {},
   "outputs": [],
   "source": [
    "voc_size=10000"
   ]
  },
  {
   "cell_type": "code",
   "execution_count": 6,
   "metadata": {},
   "outputs": [
    {
     "data": {
      "text/plain": [
       "[[2016, 8807, 1173, 9921],\n",
       " [2016, 8807, 1173, 8283],\n",
       " [2016, 1737, 1173, 5902],\n",
       " [515, 5860, 6332, 3473, 4844],\n",
       " [515, 5860, 6332, 3473, 7615],\n",
       " [3728, 2016, 8739, 1173, 9003],\n",
       " [2212, 2543, 5205, 3473]]"
      ]
     },
     "execution_count": 6,
     "metadata": {},
     "output_type": "execute_result"
    }
   ],
   "source": [
    "one_hot_repre=[one_hot(words,voc_size)for words in sent]\n",
    "one_hot_repre"
   ]
  },
  {
   "cell_type": "code",
   "execution_count": 7,
   "id": "bf2a5c8b",
   "metadata": {},
   "outputs": [],
   "source": [
    "## word Embedding Representation\n",
    "\n",
    "from tensorflow.keras.layers import Embedding\n",
    "from tensorflow.keras.utils import pad_sequences\n",
    "from tensorflow.keras.models import Sequential"
   ]
  },
  {
   "cell_type": "code",
   "execution_count": 8,
   "metadata": {},
   "outputs": [],
   "source": [
    "import numpy as np"
   ]
  },
  {
   "cell_type": "code",
   "execution_count": 9,
   "id": "7a738b0b",
   "metadata": {},
   "outputs": [
    {
     "data": {
      "text/plain": [
       "array([[2016, 8807, 1173, 9921,    0,    0],\n",
       "       [2016, 8807, 1173, 8283,    0,    0],\n",
       "       [2016, 1737, 1173, 5902,    0,    0],\n",
       "       [ 515, 5860, 6332, 3473, 4844,    0],\n",
       "       [ 515, 5860, 6332, 3473, 7615,    0],\n",
       "       [3728, 2016, 8739, 1173, 9003,    0],\n",
       "       [2212, 2543, 5205, 3473,    0,    0]], dtype=int32)"
      ]
     },
     "execution_count": 9,
     "metadata": {},
     "output_type": "execute_result"
    }
   ],
   "source": [
    "sent_length=6\n",
    "embedded_sent=pad_sequences(one_hot_repre,padding='post',maxlen=sent_length)\n",
    "embedded_sent"
   ]
  },
  {
   "cell_type": "code",
   "execution_count": 10,
   "id": "57e6fccf",
   "metadata": {},
   "outputs": [],
   "source": [
    "dim=10"
   ]
  },
  {
   "cell_type": "markdown",
   "id": "60847f2f",
   "metadata": {},
   "source": []
  },
  {
   "cell_type": "code",
   "execution_count": 17,
   "metadata": {},
   "outputs": [],
   "source": [
    "model=Sequential()\n",
    "model.add(Embedding(voc_size,dim))\n",
    "model.compile('adam','mse')"
   ]
  },
  {
   "cell_type": "code",
   "execution_count": 20,
   "id": "811fb83e",
   "metadata": {},
   "outputs": [
    {
     "data": {
      "text/html": [
       "<pre style=\"white-space:pre;overflow-x:auto;line-height:normal;font-family:Menlo,'DejaVu Sans Mono',consolas,'Courier New',monospace\"><span style=\"font-weight: bold\">Model: \"sequential_6\"</span>\n",
       "</pre>\n"
      ],
      "text/plain": [
       "\u001b[1mModel: \"sequential_6\"\u001b[0m\n"
      ]
     },
     "metadata": {},
     "output_type": "display_data"
    },
    {
     "data": {
      "text/html": [
       "<pre style=\"white-space:pre;overflow-x:auto;line-height:normal;font-family:Menlo,'DejaVu Sans Mono',consolas,'Courier New',monospace\">┏━━━━━━━━━━━━━━━━━━━━━━━━━━━━━━━━━┳━━━━━━━━━━━━━━━━━━━━━━━━┳━━━━━━━━━━━━━━━┓\n",
       "┃<span style=\"font-weight: bold\"> Layer (type)                    </span>┃<span style=\"font-weight: bold\"> Output Shape           </span>┃<span style=\"font-weight: bold\">       Param # </span>┃\n",
       "┡━━━━━━━━━━━━━━━━━━━━━━━━━━━━━━━━━╇━━━━━━━━━━━━━━━━━━━━━━━━╇━━━━━━━━━━━━━━━┩\n",
       "│ embedding_5 (<span style=\"color: #0087ff; text-decoration-color: #0087ff\">Embedding</span>)         │ (<span style=\"color: #00af00; text-decoration-color: #00af00\">7</span>, <span style=\"color: #00af00; text-decoration-color: #00af00\">6</span>, <span style=\"color: #00af00; text-decoration-color: #00af00\">10</span>)             │       <span style=\"color: #00af00; text-decoration-color: #00af00\">100,000</span> │\n",
       "└─────────────────────────────────┴────────────────────────┴───────────────┘\n",
       "</pre>\n"
      ],
      "text/plain": [
       "┏━━━━━━━━━━━━━━━━━━━━━━━━━━━━━━━━━┳━━━━━━━━━━━━━━━━━━━━━━━━┳━━━━━━━━━━━━━━━┓\n",
       "┃\u001b[1m \u001b[0m\u001b[1mLayer (type)                   \u001b[0m\u001b[1m \u001b[0m┃\u001b[1m \u001b[0m\u001b[1mOutput Shape          \u001b[0m\u001b[1m \u001b[0m┃\u001b[1m \u001b[0m\u001b[1m      Param #\u001b[0m\u001b[1m \u001b[0m┃\n",
       "┡━━━━━━━━━━━━━━━━━━━━━━━━━━━━━━━━━╇━━━━━━━━━━━━━━━━━━━━━━━━╇━━━━━━━━━━━━━━━┩\n",
       "│ embedding_5 (\u001b[38;5;33mEmbedding\u001b[0m)         │ (\u001b[38;5;34m7\u001b[0m, \u001b[38;5;34m6\u001b[0m, \u001b[38;5;34m10\u001b[0m)             │       \u001b[38;5;34m100,000\u001b[0m │\n",
       "└─────────────────────────────────┴────────────────────────┴───────────────┘\n"
      ]
     },
     "metadata": {},
     "output_type": "display_data"
    },
    {
     "data": {
      "text/html": [
       "<pre style=\"white-space:pre;overflow-x:auto;line-height:normal;font-family:Menlo,'DejaVu Sans Mono',consolas,'Courier New',monospace\"><span style=\"font-weight: bold\"> Total params: </span><span style=\"color: #00af00; text-decoration-color: #00af00\">100,000</span> (390.62 KB)\n",
       "</pre>\n"
      ],
      "text/plain": [
       "\u001b[1m Total params: \u001b[0m\u001b[38;5;34m100,000\u001b[0m (390.62 KB)\n"
      ]
     },
     "metadata": {},
     "output_type": "display_data"
    },
    {
     "data": {
      "text/html": [
       "<pre style=\"white-space:pre;overflow-x:auto;line-height:normal;font-family:Menlo,'DejaVu Sans Mono',consolas,'Courier New',monospace\"><span style=\"font-weight: bold\"> Trainable params: </span><span style=\"color: #00af00; text-decoration-color: #00af00\">100,000</span> (390.62 KB)\n",
       "</pre>\n"
      ],
      "text/plain": [
       "\u001b[1m Trainable params: \u001b[0m\u001b[38;5;34m100,000\u001b[0m (390.62 KB)\n"
      ]
     },
     "metadata": {},
     "output_type": "display_data"
    },
    {
     "data": {
      "text/html": [
       "<pre style=\"white-space:pre;overflow-x:auto;line-height:normal;font-family:Menlo,'DejaVu Sans Mono',consolas,'Courier New',monospace\"><span style=\"font-weight: bold\"> Non-trainable params: </span><span style=\"color: #00af00; text-decoration-color: #00af00\">0</span> (0.00 B)\n",
       "</pre>\n"
      ],
      "text/plain": [
       "\u001b[1m Non-trainable params: \u001b[0m\u001b[38;5;34m0\u001b[0m (0.00 B)\n"
      ]
     },
     "metadata": {},
     "output_type": "display_data"
    }
   ],
   "source": [
    "model.summary()"
   ]
  },
  {
   "cell_type": "code",
   "execution_count": 22,
   "id": "44c5af29",
   "metadata": {},
   "outputs": [
    {
     "name": "stdout",
     "output_type": "stream",
     "text": [
      "\u001b[1m1/1\u001b[0m \u001b[32m━━━━━━━━━━━━━━━━━━━━\u001b[0m\u001b[37m\u001b[0m \u001b[1m0s\u001b[0m 35ms/step\n"
     ]
    },
    {
     "data": {
      "text/plain": [
       "array([[[ 0.01275856, -0.03515635, -0.01145821,  0.01491364,\n",
       "         -0.03315343,  0.02447932, -0.00960728,  0.02478975,\n",
       "          0.03700509, -0.02433659],\n",
       "        [ 0.04401745, -0.03953325,  0.00950769,  0.01341698,\n",
       "         -0.01934182,  0.03404654, -0.03419591, -0.02667589,\n",
       "         -0.04711287,  0.04772014],\n",
       "        [ 0.02945212, -0.02588288,  0.00395211, -0.01622573,\n",
       "          0.01804593, -0.02592374, -0.02378204,  0.01338643,\n",
       "         -0.0333889 , -0.04762563],\n",
       "        [ 0.02775352,  0.02874097,  0.03540769,  0.03989029,\n",
       "         -0.01379762, -0.03305458, -0.00916648, -0.02186054,\n",
       "          0.00763767, -0.0397575 ],\n",
       "        [-0.04083116,  0.01429452, -0.04928216, -0.00570133,\n",
       "          0.00185785,  0.00504696,  0.01331004,  0.03090528,\n",
       "          0.03919056,  0.02818617],\n",
       "        [-0.04083116,  0.01429452, -0.04928216, -0.00570133,\n",
       "          0.00185785,  0.00504696,  0.01331004,  0.03090528,\n",
       "          0.03919056,  0.02818617]],\n",
       "\n",
       "       [[ 0.01275856, -0.03515635, -0.01145821,  0.01491364,\n",
       "         -0.03315343,  0.02447932, -0.00960728,  0.02478975,\n",
       "          0.03700509, -0.02433659],\n",
       "        [ 0.04401745, -0.03953325,  0.00950769,  0.01341698,\n",
       "         -0.01934182,  0.03404654, -0.03419591, -0.02667589,\n",
       "         -0.04711287,  0.04772014],\n",
       "        [ 0.02945212, -0.02588288,  0.00395211, -0.01622573,\n",
       "          0.01804593, -0.02592374, -0.02378204,  0.01338643,\n",
       "         -0.0333889 , -0.04762563],\n",
       "        [-0.01110982,  0.01397775,  0.00977942, -0.04186789,\n",
       "          0.0236229 ,  0.01383657, -0.03703757, -0.00329395,\n",
       "         -0.01046433, -0.0042362 ],\n",
       "        [-0.04083116,  0.01429452, -0.04928216, -0.00570133,\n",
       "          0.00185785,  0.00504696,  0.01331004,  0.03090528,\n",
       "          0.03919056,  0.02818617],\n",
       "        [-0.04083116,  0.01429452, -0.04928216, -0.00570133,\n",
       "          0.00185785,  0.00504696,  0.01331004,  0.03090528,\n",
       "          0.03919056,  0.02818617]],\n",
       "\n",
       "       [[ 0.01275856, -0.03515635, -0.01145821,  0.01491364,\n",
       "         -0.03315343,  0.02447932, -0.00960728,  0.02478975,\n",
       "          0.03700509, -0.02433659],\n",
       "        [ 0.01467425, -0.01859625,  0.04303514, -0.01315433,\n",
       "          0.03640337, -0.00110569,  0.03555831,  0.03114432,\n",
       "          0.04662974,  0.01246979],\n",
       "        [ 0.02945212, -0.02588288,  0.00395211, -0.01622573,\n",
       "          0.01804593, -0.02592374, -0.02378204,  0.01338643,\n",
       "         -0.0333889 , -0.04762563],\n",
       "        [-0.0247296 ,  0.04014583, -0.01751697, -0.01823329,\n",
       "         -0.02955418, -0.01415604, -0.03300347,  0.04907953,\n",
       "         -0.01855308,  0.0237704 ],\n",
       "        [-0.04083116,  0.01429452, -0.04928216, -0.00570133,\n",
       "          0.00185785,  0.00504696,  0.01331004,  0.03090528,\n",
       "          0.03919056,  0.02818617],\n",
       "        [-0.04083116,  0.01429452, -0.04928216, -0.00570133,\n",
       "          0.00185785,  0.00504696,  0.01331004,  0.03090528,\n",
       "          0.03919056,  0.02818617]],\n",
       "\n",
       "       [[ 0.0357202 ,  0.00781856,  0.00408681, -0.01618411,\n",
       "          0.0369174 , -0.02611473, -0.03600059,  0.01966008,\n",
       "         -0.03355163,  0.04940423],\n",
       "        [-0.04520136,  0.02054072,  0.01507862,  0.00696601,\n",
       "         -0.03063202,  0.0495686 , -0.01472533, -0.01845907,\n",
       "         -0.02489548, -0.02085415],\n",
       "        [ 0.03625424, -0.03470153, -0.01257721,  0.0491843 ,\n",
       "          0.00910504,  0.03858646,  0.01721846,  0.02358843,\n",
       "         -0.02283745,  0.01643221],\n",
       "        [ 0.04419607,  0.02514522, -0.00993691, -0.0007174 ,\n",
       "         -0.03686174,  0.04878291, -0.01155759,  0.0222149 ,\n",
       "          0.02365801, -0.0304785 ],\n",
       "        [ 0.03428051,  0.00198504, -0.0015678 ,  0.02769867,\n",
       "          0.01639069,  0.03115198, -0.01473786,  0.01005523,\n",
       "         -0.03001891,  0.04932914],\n",
       "        [-0.04083116,  0.01429452, -0.04928216, -0.00570133,\n",
       "          0.00185785,  0.00504696,  0.01331004,  0.03090528,\n",
       "          0.03919056,  0.02818617]],\n",
       "\n",
       "       [[ 0.0357202 ,  0.00781856,  0.00408681, -0.01618411,\n",
       "          0.0369174 , -0.02611473, -0.03600059,  0.01966008,\n",
       "         -0.03355163,  0.04940423],\n",
       "        [-0.04520136,  0.02054072,  0.01507862,  0.00696601,\n",
       "         -0.03063202,  0.0495686 , -0.01472533, -0.01845907,\n",
       "         -0.02489548, -0.02085415],\n",
       "        [ 0.03625424, -0.03470153, -0.01257721,  0.0491843 ,\n",
       "          0.00910504,  0.03858646,  0.01721846,  0.02358843,\n",
       "         -0.02283745,  0.01643221],\n",
       "        [ 0.04419607,  0.02514522, -0.00993691, -0.0007174 ,\n",
       "         -0.03686174,  0.04878291, -0.01155759,  0.0222149 ,\n",
       "          0.02365801, -0.0304785 ],\n",
       "        [ 0.01651882, -0.02457042, -0.03180353, -0.01165755,\n",
       "         -0.02502232,  0.01376032,  0.02613756,  0.01422079,\n",
       "         -0.03852353,  0.00541107],\n",
       "        [-0.04083116,  0.01429452, -0.04928216, -0.00570133,\n",
       "          0.00185785,  0.00504696,  0.01331004,  0.03090528,\n",
       "          0.03919056,  0.02818617]],\n",
       "\n",
       "       [[ 0.00108932,  0.04152829, -0.04792519,  0.04144793,\n",
       "          0.0085314 , -0.019987  , -0.01353407, -0.03659607,\n",
       "          0.04863236,  0.02113141],\n",
       "        [ 0.01275856, -0.03515635, -0.01145821,  0.01491364,\n",
       "         -0.03315343,  0.02447932, -0.00960728,  0.02478975,\n",
       "          0.03700509, -0.02433659],\n",
       "        [-0.02235812, -0.04076862,  0.02817019,  0.0427695 ,\n",
       "         -0.04857931, -0.04911668, -0.02494265,  0.03274688,\n",
       "         -0.02606278,  0.0341521 ],\n",
       "        [ 0.02945212, -0.02588288,  0.00395211, -0.01622573,\n",
       "          0.01804593, -0.02592374, -0.02378204,  0.01338643,\n",
       "         -0.0333889 , -0.04762563],\n",
       "        [ 0.03534788, -0.04380805, -0.03769432, -0.01720084,\n",
       "          0.00946876, -0.04631258,  0.03431273, -0.00105197,\n",
       "          0.02260983,  0.01927255],\n",
       "        [-0.04083116,  0.01429452, -0.04928216, -0.00570133,\n",
       "          0.00185785,  0.00504696,  0.01331004,  0.03090528,\n",
       "          0.03919056,  0.02818617]],\n",
       "\n",
       "       [[-0.00418098,  0.00870926,  0.02066821,  0.03025159,\n",
       "          0.03383795,  0.00437988, -0.04003199, -0.04529321,\n",
       "          0.03002742,  0.04551492],\n",
       "        [-0.04700484, -0.00645547, -0.01971387, -0.02283421,\n",
       "          0.01639054,  0.03998223, -0.03124406,  0.02026857,\n",
       "          0.02460336, -0.01559598],\n",
       "        [-0.02953156,  0.00044974,  0.0087054 , -0.00687625,\n",
       "         -0.03815869,  0.01176495,  0.03891056, -0.01328563,\n",
       "          0.01687108, -0.00154332],\n",
       "        [ 0.04419607,  0.02514522, -0.00993691, -0.0007174 ,\n",
       "         -0.03686174,  0.04878291, -0.01155759,  0.0222149 ,\n",
       "          0.02365801, -0.0304785 ],\n",
       "        [-0.04083116,  0.01429452, -0.04928216, -0.00570133,\n",
       "          0.00185785,  0.00504696,  0.01331004,  0.03090528,\n",
       "          0.03919056,  0.02818617],\n",
       "        [-0.04083116,  0.01429452, -0.04928216, -0.00570133,\n",
       "          0.00185785,  0.00504696,  0.01331004,  0.03090528,\n",
       "          0.03919056,  0.02818617]]], dtype=float32)"
      ]
     },
     "execution_count": 22,
     "metadata": {},
     "output_type": "execute_result"
    }
   ],
   "source": [
    "model.predict(embedded_sent)"
   ]
  },
  {
   "cell_type": "code",
   "execution_count": 23,
   "id": "5f1a4161",
   "metadata": {},
   "outputs": [
    {
     "data": {
      "text/plain": [
       "array([2016, 8807, 1173, 9921,    0,    0], dtype=int32)"
      ]
     },
     "execution_count": 23,
     "metadata": {},
     "output_type": "execute_result"
    }
   ],
   "source": [
    "embedded_sent[0]"
   ]
  }
 ],
 "metadata": {
  "kernelspec": {
   "display_name": "myenv",
   "language": "python",
   "name": "python3"
  },
  "language_info": {
   "codemirror_mode": {
    "name": "ipython",
    "version": 3
   },
   "file_extension": ".py",
   "mimetype": "text/x-python",
   "name": "python",
   "nbconvert_exporter": "python",
   "pygments_lexer": "ipython3",
   "version": "3.13.7"
  }
 },
 "nbformat": 4,
 "nbformat_minor": 5
}
